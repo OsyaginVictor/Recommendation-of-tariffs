{
  "cells": [
    {
      "cell_type": "markdown",
      "metadata": {
        "id": "view-in-github",
        "colab_type": "text"
      },
      "source": [
        "<a href=\"https://colab.research.google.com/github/OsyaginVictor/Recommendation-of-tariffs/blob/main/Recommendation_of_tariffs.ipynb\" target=\"_parent\"><img src=\"https://colab.research.google.com/assets/colab-badge.svg\" alt=\"Open In Colab\"/></a>"
      ]
    },
    {
      "cell_type": "markdown",
      "metadata": {
        "id": "Pc32MigUSR_L"
      },
      "source": [
        "# Рекомендация тарифов"
      ]
    },
    {
      "cell_type": "markdown",
      "metadata": {
        "id": "5f6NNmANSR_M"
      },
      "source": [
        "В вашем распоряжении данные о поведении клиентов, которые уже перешли на эти тарифы (из проекта курса «Статистический анализ данных»). Нужно построить модель для задачи классификации, которая выберет подходящий тариф. Предобработка данных не понадобится — вы её уже сделали.\n",
        "\n",
        "Постройте модель с максимально большим значением *accuracy*. Чтобы сдать проект успешно, нужно довести долю правильных ответов по крайней мере до 0.75. Проверьте *accuracy* на тестовой выборке самостоятельно."
      ]
    },
    {
      "cell_type": "markdown",
      "metadata": {
        "id": "ALTkIelESR_M"
      },
      "source": [
        "## Откройте и изучите файл"
      ]
    },
    {
      "cell_type": "code",
      "execution_count": null,
      "metadata": {
        "id": "0cOBN5pWSR_M"
      },
      "outputs": [],
      "source": [
        "import pandas as pd\n",
        "import joblib\n",
        "from sklearn.model_selection import train_test_split\n",
        "from sklearn.metrics import accuracy_score\n",
        "from sklearn.tree import DecisionTreeClassifier\n",
        "from sklearn.linear_model import LogisticRegression\n",
        "from sklearn.ensemble import RandomForestClassifier"
      ]
    },
    {
      "cell_type": "code",
      "execution_count": null,
      "metadata": {
        "id": "zCPAoDzoSR_N"
      },
      "outputs": [],
      "source": [
        "users_behavior = pd.read_csv('/datasets/users_behavior.csv')"
      ]
    },
    {
      "cell_type": "code",
      "execution_count": null,
      "metadata": {
        "id": "AGinbTlTSR_N",
        "outputId": "c479fb3c-a7e1-4847-ec06-606e08b7e346"
      },
      "outputs": [
        {
          "data": {
            "text/html": [
              "<div>\n",
              "<style scoped>\n",
              "    .dataframe tbody tr th:only-of-type {\n",
              "        vertical-align: middle;\n",
              "    }\n",
              "\n",
              "    .dataframe tbody tr th {\n",
              "        vertical-align: top;\n",
              "    }\n",
              "\n",
              "    .dataframe thead th {\n",
              "        text-align: right;\n",
              "    }\n",
              "</style>\n",
              "<table border=\"1\" class=\"dataframe\">\n",
              "  <thead>\n",
              "    <tr style=\"text-align: right;\">\n",
              "      <th></th>\n",
              "      <th>calls</th>\n",
              "      <th>minutes</th>\n",
              "      <th>messages</th>\n",
              "      <th>mb_used</th>\n",
              "      <th>is_ultra</th>\n",
              "    </tr>\n",
              "  </thead>\n",
              "  <tbody>\n",
              "    <tr>\n",
              "      <th>0</th>\n",
              "      <td>40.0</td>\n",
              "      <td>311.90</td>\n",
              "      <td>83.0</td>\n",
              "      <td>19915.42</td>\n",
              "      <td>0</td>\n",
              "    </tr>\n",
              "    <tr>\n",
              "      <th>1</th>\n",
              "      <td>85.0</td>\n",
              "      <td>516.75</td>\n",
              "      <td>56.0</td>\n",
              "      <td>22696.96</td>\n",
              "      <td>0</td>\n",
              "    </tr>\n",
              "    <tr>\n",
              "      <th>2</th>\n",
              "      <td>77.0</td>\n",
              "      <td>467.66</td>\n",
              "      <td>86.0</td>\n",
              "      <td>21060.45</td>\n",
              "      <td>0</td>\n",
              "    </tr>\n",
              "    <tr>\n",
              "      <th>3</th>\n",
              "      <td>106.0</td>\n",
              "      <td>745.53</td>\n",
              "      <td>81.0</td>\n",
              "      <td>8437.39</td>\n",
              "      <td>1</td>\n",
              "    </tr>\n",
              "    <tr>\n",
              "      <th>4</th>\n",
              "      <td>66.0</td>\n",
              "      <td>418.74</td>\n",
              "      <td>1.0</td>\n",
              "      <td>14502.75</td>\n",
              "      <td>0</td>\n",
              "    </tr>\n",
              "  </tbody>\n",
              "</table>\n",
              "</div>"
            ],
            "text/plain": [
              "   calls  minutes  messages   mb_used  is_ultra\n",
              "0   40.0   311.90      83.0  19915.42         0\n",
              "1   85.0   516.75      56.0  22696.96         0\n",
              "2   77.0   467.66      86.0  21060.45         0\n",
              "3  106.0   745.53      81.0   8437.39         1\n",
              "4   66.0   418.74       1.0  14502.75         0"
            ]
          },
          "execution_count": 3,
          "metadata": {},
          "output_type": "execute_result"
        }
      ],
      "source": [
        "users_behavior.head(5)"
      ]
    },
    {
      "cell_type": "markdown",
      "metadata": {
        "id": "xb1UBVKUSR_N"
      },
      "source": [
        "## Разбейте данные на выборки"
      ]
    },
    {
      "cell_type": "markdown",
      "metadata": {
        "id": "oJ_7YLqtSR_N"
      },
      "source": [
        "Для корректной проверки будущей модели нам необходимо разбить данные на 3 выборки - обучающую, валидационную и тестовую.\n",
        "\n",
        "Сначала отделим от датасета 60% наблюдений - это будет обучающая выборка. Оставщиеся данные поделим пополам - на тестовую и валидационную выборки. Таким образом мы разобьем данные в соотношении 60/20/20.\n"
      ]
    },
    {
      "cell_type": "code",
      "execution_count": null,
      "metadata": {
        "id": "AqPB3Yd5SR_N"
      },
      "outputs": [],
      "source": [
        "users_behavior_train, users_behavior_rest = train_test_split(users_behavior, test_size=0.4, random_state=666)"
      ]
    },
    {
      "cell_type": "code",
      "execution_count": null,
      "metadata": {
        "id": "-56FT90NSR_N"
      },
      "outputs": [],
      "source": [
        "users_behavior_test, users_behavior_valid = train_test_split(users_behavior_rest, test_size=0.5, random_state=666)"
      ]
    },
    {
      "cell_type": "code",
      "execution_count": null,
      "metadata": {
        "id": "yuyQXA6eSR_N",
        "outputId": "0463e49b-aa26-4404-91d2-486b2440061a"
      },
      "outputs": [
        {
          "data": {
            "text/plain": [
              "(643, 5)"
            ]
          },
          "execution_count": 6,
          "metadata": {},
          "output_type": "execute_result"
        }
      ],
      "source": [
        "users_behavior_train.shape\n",
        "users_behavior_test.shape\n",
        "users_behavior_valid.shape"
      ]
    },
    {
      "cell_type": "markdown",
      "metadata": {
        "id": "peKFBvQjSR_O"
      },
      "source": [
        "Вывод: Разделили данные на три выборки в соотношении 60/20/20 соответственно:\n",
        "\n",
        "users_behavior_train - обучающая\n",
        "\n",
        "users_behavior_test - тестовая\n",
        "\n",
        "users_behavior_valid - валидационная\n",
        "\n"
      ]
    },
    {
      "cell_type": "markdown",
      "metadata": {
        "id": "mbCjcneMSR_O"
      },
      "source": [
        "## Исследуйте модели"
      ]
    },
    {
      "cell_type": "markdown",
      "metadata": {
        "id": "t9MO0DJ4SR_O"
      },
      "source": [
        "Подготовим данные и обучим модель, а затем исследуем качество разных моделей, меняя гиперпараметры."
      ]
    },
    {
      "cell_type": "code",
      "execution_count": null,
      "metadata": {
        "id": "W2CZn2-YSR_O"
      },
      "outputs": [],
      "source": [
        "#подготовим признаки и целевой признак обучающей и валидационной выборок\n",
        "features_train = users_behavior_train.drop(['is_ultra'], axis=1)\n",
        "target_train = users_behavior_train['is_ultra']"
      ]
    },
    {
      "cell_type": "code",
      "execution_count": null,
      "metadata": {
        "id": "qioHjSt7SR_O"
      },
      "outputs": [],
      "source": [
        "features_valid = users_behavior_valid.drop(['is_ultra'], axis=1)\n",
        "target_valid = users_behavior_valid['is_ultra']"
      ]
    },
    {
      "cell_type": "code",
      "execution_count": null,
      "metadata": {
        "id": "Wns_XU20SR_O",
        "outputId": "cc5dd6d7-1784-4b6c-cb1e-709406f53086"
      },
      "outputs": [
        {
          "name": "stdout",
          "output_type": "stream",
          "text": [
            "Accuracy при max_depth = 3\n",
            "Обучающая выборка: 0.8018672199170125\n",
            "Валидационная выборка: 0.8040435458786936\n",
            "\n",
            "Accuracy при max_depth = 4\n",
            "Обучающая выборка: 0.8044605809128631\n",
            "Валидационная выборка: 0.8009331259720062\n",
            "\n",
            "Accuracy при max_depth = 5\n",
            "Обучающая выборка: 0.8220954356846473\n",
            "Валидационная выборка: 0.80248833592535\n",
            "\n",
            "Accuracy при max_depth = 6\n",
            "Обучающая выборка: 0.8298755186721992\n",
            "Валидационная выборка: 0.80248833592535\n",
            "\n"
          ]
        }
      ],
      "source": [
        "#исследуем работу модели с различными значениями гиперпараметра max_depth\n",
        "for depth in range(3, 7, 1):\n",
        "    model1 = DecisionTreeClassifier(random_state=666, max_depth=depth)\n",
        "    model1.fit(features_train, target_train)\n",
        "    predictions_train = model1.predict(features_train)\n",
        "    predictions_valid = model1.predict(features_valid)\n",
        "    print(\"Accuracy при max_depth =\", depth)\n",
        "    print(\"Обучающая выборка:\", accuracy_score(target_train, predictions_train))\n",
        "    print(\"Валидационная выборка:\", accuracy_score(target_valid, predictions_valid))\n",
        "    print()"
      ]
    },
    {
      "cell_type": "code",
      "execution_count": null,
      "metadata": {
        "id": "CPTe0w13SR_O"
      },
      "outputs": [],
      "source": [
        "model2 = LogisticRegression(random_state=666, solver='lbfgs')"
      ]
    },
    {
      "cell_type": "code",
      "execution_count": null,
      "metadata": {
        "id": "MvATOj1bSR_P",
        "outputId": "9ee3a3af-ea48-4147-91c0-633efa781e6c"
      },
      "outputs": [
        {
          "data": {
            "text/plain": [
              "LogisticRegression(random_state=666)"
            ]
          },
          "execution_count": 11,
          "metadata": {},
          "output_type": "execute_result"
        }
      ],
      "source": [
        "model2.fit(features_train, target_train)"
      ]
    },
    {
      "cell_type": "code",
      "execution_count": null,
      "metadata": {
        "id": "eB5Bbor1SR_P"
      },
      "outputs": [],
      "source": [
        "predictions_train2 = model2.predict(features_train)\n",
        "predictions_valid2 = model2.predict(features_valid)"
      ]
    },
    {
      "cell_type": "code",
      "execution_count": null,
      "metadata": {
        "id": "evsFiJswSR_P",
        "outputId": "20b14e1f-d0c9-48ca-8c56-1394331b64a5"
      },
      "outputs": [
        {
          "name": "stdout",
          "output_type": "stream",
          "text": [
            "Обучающая выборка: 0.754149377593361\n",
            "Валидационная выборка: 0.7511664074650077\n"
          ]
        }
      ],
      "source": [
        "print(\"Обучающая выборка:\", accuracy_score(target_train, predictions_train2))\n",
        "print(\"Валидационная выборка:\", accuracy_score(target_valid, predictions_valid2))"
      ]
    },
    {
      "cell_type": "code",
      "execution_count": null,
      "metadata": {
        "id": "YPwJJDtmSR_P",
        "outputId": "82f7e566-ac42-49a8-c93f-2c47210cd1e4"
      },
      "outputs": [
        {
          "name": "stdout",
          "output_type": "stream",
          "text": [
            "Accuracy при n_estimators = 2\n",
            "Обучающая выборка: 0.9056016597510373\n",
            "Валидационная выборка: 0.7807153965785381\n",
            "\n",
            "Accuracy при n_estimators = 3\n",
            "Обучающая выборка: 0.9517634854771784\n",
            "Валидационная выборка: 0.7667185069984448\n",
            "\n",
            "Accuracy при n_estimators = 4\n",
            "Обучающая выборка: 0.9481327800829875\n",
            "Валидационная выборка: 0.7978227060653188\n",
            "\n",
            "Accuracy при n_estimators = 5\n",
            "Обучающая выборка: 0.9714730290456431\n",
            "Валидационная выборка: 0.7931570762052877\n",
            "\n"
          ]
        }
      ],
      "source": [
        "#исследуем работу модели с различными значениями гиперпараметра n_estimators\n",
        "for estim in range(2, 6, 1):\n",
        "    model3 = RandomForestClassifier(random_state=666, n_estimators=estim)\n",
        "    model3.fit(features_train, target_train)\n",
        "    predictions_train3 = model3.predict(features_train)\n",
        "    predictions_valid3 = model3.predict(features_valid)\n",
        "    print(\"Accuracy при n_estimators =\", estim)\n",
        "    print(\"Обучающая выборка:\", accuracy_score(target_train, predictions_train3))\n",
        "    print(\"Валидационная выборка:\", accuracy_score(target_valid, predictions_valid3))\n",
        "    print()"
      ]
    },
    {
      "cell_type": "markdown",
      "metadata": {
        "id": "-QHps35OSR_P"
      },
      "source": [
        "Вывод:\n",
        "\n",
        "модель случайного леса отработала лучше двух других моделей (хотя и они прошли порог точности в 0.75),\n",
        "при увеличении значения max_depth у модели решающего дерева успешность работы модели возрастает, поэтому будем использовать значение 6,\n",
        "в случае с RandomForestClassifier остановимся на значении n_estimators=4, которое дало наилучший результат на валидационной выборке.\n"
      ]
    },
    {
      "cell_type": "markdown",
      "metadata": {
        "id": "Ho7Gs5FDSR_P"
      },
      "source": [
        "## Проверим модели на тестовой выборке"
      ]
    },
    {
      "cell_type": "markdown",
      "metadata": {
        "id": "2JX9OE1TSR_P"
      },
      "source": [
        "Объедим обучающую и валидационную выборки, а затем снова обучим модель перед тестовой проверкой."
      ]
    },
    {
      "cell_type": "code",
      "execution_count": null,
      "metadata": {
        "id": "jvP7z1daSR_P"
      },
      "outputs": [],
      "source": [
        "features_merged = (users_behavior_train\n",
        "                   .drop(['is_ultra'], axis=1)\n",
        "                   .append([users_behavior_valid\n",
        "                            .drop(['is_ultra'], axis=1)])\n",
        "                  )\n",
        "target_merged = users_behavior_train['is_ultra'].append([users_behavior_valid['is_ultra']])"
      ]
    },
    {
      "cell_type": "code",
      "execution_count": null,
      "metadata": {
        "id": "goSYatnJSR_P"
      },
      "outputs": [],
      "source": [
        "features_test = users_behavior_test.drop(['is_ultra'], axis=1)\n",
        "target_test = users_behavior_test['is_ultra']"
      ]
    },
    {
      "cell_type": "code",
      "execution_count": null,
      "metadata": {
        "id": "99njkMJqSR_Q",
        "outputId": "dfc29122-877c-4b1a-fb33-a926590e434b"
      },
      "outputs": [
        {
          "data": {
            "text/plain": [
              "0.7791601866251944"
            ]
          },
          "execution_count": 17,
          "metadata": {},
          "output_type": "execute_result"
        }
      ],
      "source": [
        "#точность при обучении на объединенной выборке\n",
        "model1 = DecisionTreeClassifier(random_state=666, max_depth=6)\n",
        "model1.fit(features_merged, target_merged)\n",
        "model1.predict(features_test)\n",
        "model1.score(features_test, target_test)"
      ]
    },
    {
      "cell_type": "code",
      "execution_count": null,
      "metadata": {
        "id": "W-vIZ0-kSR_Q",
        "outputId": "abeacacb-5c0f-41da-9a94-e715a0315833"
      },
      "outputs": [
        {
          "data": {
            "text/plain": [
              "0.7900466562986003"
            ]
          },
          "execution_count": 18,
          "metadata": {},
          "output_type": "execute_result"
        }
      ],
      "source": [
        "#точность при обучении только на обучающей выборке\n",
        "model1 = DecisionTreeClassifier(random_state=666, max_depth=6)\n",
        "model1.fit(features_train, target_train)\n",
        "model1.predict(features_test)\n",
        "model1.score(features_test, target_test)"
      ]
    },
    {
      "cell_type": "code",
      "execution_count": null,
      "metadata": {
        "id": "ucBCvtXQSR_Q",
        "outputId": "d67532c6-d21d-4211-db42-ba3453c32349"
      },
      "outputs": [
        {
          "data": {
            "text/plain": [
              "0.7589424572317263"
            ]
          },
          "execution_count": 19,
          "metadata": {},
          "output_type": "execute_result"
        }
      ],
      "source": [
        "#точность при обучении на объединенной выборке\n",
        "model3 = RandomForestClassifier(random_state=666, n_estimators=4)\n",
        "model3.fit(features_merged, target_merged)\n",
        "model3.predict(features_test)\n",
        "model3.score(features_test, target_test)"
      ]
    },
    {
      "cell_type": "code",
      "execution_count": null,
      "metadata": {
        "id": "JkXdO-W6SR_Q",
        "outputId": "a935a1df-32d8-4e04-d9c7-6140af7e68f5"
      },
      "outputs": [
        {
          "data": {
            "text/plain": [
              "0.7713841368584758"
            ]
          },
          "execution_count": 20,
          "metadata": {},
          "output_type": "execute_result"
        }
      ],
      "source": [
        "#точность при обучении только на обучающей выборке\n",
        "model3 = RandomForestClassifier(random_state=666, n_estimators=4)\n",
        "model3.fit(features_train, target_train)\n",
        "model3.predict(features_test)\n",
        "model3.score(features_test, target_test)"
      ]
    },
    {
      "cell_type": "markdown",
      "metadata": {
        "id": "s7t1wlM-SR_Q"
      },
      "source": [
        "вывод:\n",
        "\n",
        "на тестовой выборке модель DecisionTreeClassifier сработала лучше, чем RandomForestClassifier,\n",
        "точность моделей падает примерно на 0.02 при обучении на объединенной выборке,\n",
        "значенение точности модели DecisionTreeClassifier - 0.79 (при обучении на трейне). Получается, что модель ошибается примерно в двух случаях из десяти."
      ]
    },
    {
      "cell_type": "markdown",
      "metadata": {
        "id": "AvP5vXxTSR_Q"
      },
      "source": [
        "## Проверьте модели на вменяемость"
      ]
    },
    {
      "cell_type": "markdown",
      "metadata": {
        "id": "jWhJcDuPSR_Q"
      },
      "source": [
        "Проверим модель на адекватность двумя способами.\n",
        "\n",
        "1\n",
        "\n",
        "Для проверки адекватности модели сравним точность её предсказания с точностью константы:"
      ]
    },
    {
      "cell_type": "code",
      "execution_count": null,
      "metadata": {
        "id": "V0DeUqR6SR_Q",
        "outputId": "575d43cc-925a-4d76-a13a-531ccd0c056e"
      },
      "outputs": [
        {
          "name": "stdout",
          "output_type": "stream",
          "text": [
            "Модель адекватна\n"
          ]
        }
      ],
      "source": [
        "CONST = (users_behavior['is_ultra'].value_counts() / users_behavior.shape[0]).loc[0]\n",
        "if CONST < 0.79:\n",
        "    print('Модель адекватна')"
      ]
    },
    {
      "cell_type": "markdown",
      "metadata": {
        "id": "GyN0e70MSR_Q"
      },
      "source": [
        "2\n",
        "\n",
        "По другой версии, чтобы оценить адекватность модели в задачах классификации, нужно сравнить её со случайной.\n",
        "\n",
        "У нас есть два значения целевого признака is_ultra - 1 и 0. Если бы модель предсказывала одно из двух чисел случайным образом, значение ее точности было бы 0.5. С моделью DecisionTreeClassifier мы добились точности 0.79, что гораздо выше.\n",
        "\n",
        "Следовательно, модель прошла проверку на адекватность."
      ]
    },
    {
      "cell_type": "markdown",
      "metadata": {
        "id": "CP10hOrySR_Q"
      },
      "source": [
        "- [x] Jupyter Notebook открыт\n",
        "- [ ] Весь код исполняется без ошибок\n",
        "- [ ] Ячейки с кодом расположены в порядке исполнения\n",
        "- [ ] Выполнено задание 1: данные загружены и изучены\n",
        "- [ ] Выполнено задание 2: данные разбиты на три выборки\n",
        "- [ ] Выполнено задание 3: проведено исследование моделей\n",
        "    - [ ] Рассмотрено больше одной модели\n",
        "    - [ ] Рассмотрено хотя бы 3 значения гипепараметров для какой-нибудь модели\n",
        "    - [ ] Написаны выводы по результатам исследования\n",
        "- [ ] Выполнено задание 3: Проведено тестирование\n",
        "- [ ] Удалось достичь accuracy не меньше 0.75\n"
      ]
    },
    {
      "cell_type": "code",
      "execution_count": null,
      "metadata": {
        "id": "kHrkOc0dSR_R"
      },
      "outputs": [],
      "source": []
    }
  ],
  "metadata": {
    "ExecuteTimeLog": [
      {
        "duration": 56,
        "start_time": "2023-02-04T18:02:33.155Z"
      },
      {
        "duration": 438,
        "start_time": "2023-02-04T18:02:36.280Z"
      },
      {
        "duration": 71,
        "start_time": "2023-02-04T18:02:36.873Z"
      },
      {
        "duration": 23,
        "start_time": "2023-02-04T18:02:49.456Z"
      },
      {
        "duration": 10,
        "start_time": "2023-02-04T23:58:54.027Z"
      },
      {
        "duration": 13,
        "start_time": "2023-02-04T23:59:03.905Z"
      },
      {
        "duration": 29,
        "start_time": "2023-02-04T23:59:52.775Z"
      },
      {
        "duration": 6,
        "start_time": "2023-02-04T23:59:58.383Z"
      },
      {
        "duration": 8,
        "start_time": "2023-02-05T00:00:52.524Z"
      },
      {
        "duration": 4,
        "start_time": "2023-02-05T00:01:05.095Z"
      },
      {
        "duration": 4,
        "start_time": "2023-02-05T00:01:06.217Z"
      },
      {
        "duration": 80,
        "start_time": "2023-02-05T00:03:04.040Z"
      },
      {
        "duration": 9,
        "start_time": "2023-02-05T00:03:22.566Z"
      },
      {
        "duration": 1091,
        "start_time": "2023-02-05T00:05:44.737Z"
      },
      {
        "duration": 27,
        "start_time": "2023-02-05T00:05:45.830Z"
      },
      {
        "duration": 22,
        "start_time": "2023-02-05T00:05:45.859Z"
      },
      {
        "duration": 6,
        "start_time": "2023-02-05T00:05:45.882Z"
      },
      {
        "duration": 7,
        "start_time": "2023-02-05T00:05:45.890Z"
      },
      {
        "duration": 8,
        "start_time": "2023-02-05T00:05:45.899Z"
      },
      {
        "duration": 11,
        "start_time": "2023-02-05T00:05:45.908Z"
      },
      {
        "duration": 7,
        "start_time": "2023-02-05T00:06:38.449Z"
      },
      {
        "duration": 4,
        "start_time": "2023-02-05T00:06:47.741Z"
      },
      {
        "duration": 4,
        "start_time": "2023-02-05T00:07:20.473Z"
      },
      {
        "duration": 78,
        "start_time": "2023-02-05T00:08:05.560Z"
      },
      {
        "duration": 5,
        "start_time": "2023-02-05T00:08:55.139Z"
      },
      {
        "duration": 3,
        "start_time": "2023-02-05T00:10:18.014Z"
      },
      {
        "duration": 70,
        "start_time": "2023-02-05T00:10:32.234Z"
      },
      {
        "duration": 107,
        "start_time": "2023-02-05T00:10:48.350Z"
      },
      {
        "duration": 10,
        "start_time": "2023-02-05T00:13:45.353Z"
      },
      {
        "duration": 11,
        "start_time": "2023-02-05T00:14:04.702Z"
      },
      {
        "duration": 1123,
        "start_time": "2023-02-05T00:14:40.911Z"
      },
      {
        "duration": 27,
        "start_time": "2023-02-05T00:14:42.037Z"
      },
      {
        "duration": 20,
        "start_time": "2023-02-05T00:14:42.066Z"
      },
      {
        "duration": 14,
        "start_time": "2023-02-05T00:14:42.088Z"
      },
      {
        "duration": 5,
        "start_time": "2023-02-05T00:14:42.105Z"
      },
      {
        "duration": 12,
        "start_time": "2023-02-05T00:14:42.112Z"
      },
      {
        "duration": 14,
        "start_time": "2023-02-05T00:14:42.125Z"
      },
      {
        "duration": 8,
        "start_time": "2023-02-05T00:14:42.141Z"
      },
      {
        "duration": 8,
        "start_time": "2023-02-05T00:14:42.150Z"
      },
      {
        "duration": 7,
        "start_time": "2023-02-05T00:14:42.159Z"
      },
      {
        "duration": 4,
        "start_time": "2023-02-05T00:14:42.184Z"
      },
      {
        "duration": 6,
        "start_time": "2023-02-05T00:14:42.190Z"
      },
      {
        "duration": 116,
        "start_time": "2023-02-05T00:14:42.198Z"
      },
      {
        "duration": 0,
        "start_time": "2023-02-05T00:14:42.316Z"
      },
      {
        "duration": 10,
        "start_time": "2023-02-05T00:16:51.629Z"
      },
      {
        "duration": 10,
        "start_time": "2023-02-05T00:17:16.076Z"
      },
      {
        "duration": 10,
        "start_time": "2023-02-05T00:18:01.657Z"
      },
      {
        "duration": 9,
        "start_time": "2023-02-05T00:18:09.303Z"
      },
      {
        "duration": 10,
        "start_time": "2023-02-05T00:20:20.936Z"
      },
      {
        "duration": 10,
        "start_time": "2023-02-05T00:20:33.614Z"
      },
      {
        "duration": 9,
        "start_time": "2023-02-05T00:20:42.893Z"
      },
      {
        "duration": 10,
        "start_time": "2023-02-05T00:21:00.249Z"
      },
      {
        "duration": 10,
        "start_time": "2023-02-05T00:21:50.742Z"
      },
      {
        "duration": 9,
        "start_time": "2023-02-05T00:22:18.318Z"
      },
      {
        "duration": 9,
        "start_time": "2023-02-05T00:34:29.185Z"
      },
      {
        "duration": 11,
        "start_time": "2023-02-05T00:35:04.285Z"
      },
      {
        "duration": 11,
        "start_time": "2023-02-05T00:35:13.405Z"
      },
      {
        "duration": 11,
        "start_time": "2023-02-05T00:39:30.561Z"
      },
      {
        "duration": 11,
        "start_time": "2023-02-05T00:39:47.573Z"
      },
      {
        "duration": 9,
        "start_time": "2023-02-05T00:42:27.798Z"
      },
      {
        "duration": 11,
        "start_time": "2023-02-05T00:43:41.876Z"
      },
      {
        "duration": 17,
        "start_time": "2023-02-05T00:43:50.624Z"
      },
      {
        "duration": 77,
        "start_time": "2023-02-05T00:59:57.735Z"
      },
      {
        "duration": 77,
        "start_time": "2023-02-05T01:00:58.800Z"
      },
      {
        "duration": 1084,
        "start_time": "2023-02-05T01:04:27.726Z"
      },
      {
        "duration": 28,
        "start_time": "2023-02-05T01:04:28.811Z"
      },
      {
        "duration": 17,
        "start_time": "2023-02-05T01:04:28.841Z"
      },
      {
        "duration": 28,
        "start_time": "2023-02-05T01:04:28.860Z"
      },
      {
        "duration": 17,
        "start_time": "2023-02-05T01:04:28.890Z"
      },
      {
        "duration": 12,
        "start_time": "2023-02-05T01:04:28.909Z"
      },
      {
        "duration": 23,
        "start_time": "2023-02-05T01:04:28.923Z"
      },
      {
        "duration": 7,
        "start_time": "2023-02-05T01:04:28.948Z"
      },
      {
        "duration": 47,
        "start_time": "2023-02-05T01:04:28.957Z"
      },
      {
        "duration": 2,
        "start_time": "2023-02-05T01:04:29.007Z"
      },
      {
        "duration": 37,
        "start_time": "2023-02-05T01:04:29.011Z"
      },
      {
        "duration": 6,
        "start_time": "2023-02-05T01:04:29.050Z"
      },
      {
        "duration": 10,
        "start_time": "2023-02-05T01:04:29.058Z"
      },
      {
        "duration": 116,
        "start_time": "2023-02-05T01:04:29.070Z"
      },
      {
        "duration": 6,
        "start_time": "2023-02-05T01:04:29.187Z"
      },
      {
        "duration": 11,
        "start_time": "2023-02-05T01:04:29.195Z"
      },
      {
        "duration": 18,
        "start_time": "2023-02-05T01:04:29.208Z"
      },
      {
        "duration": 17,
        "start_time": "2023-02-05T01:04:29.227Z"
      },
      {
        "duration": 44,
        "start_time": "2023-02-05T01:04:29.246Z"
      },
      {
        "duration": 29,
        "start_time": "2023-02-05T01:04:29.291Z"
      },
      {
        "duration": 6,
        "start_time": "2023-02-05T01:04:29.322Z"
      },
      {
        "duration": 1067,
        "start_time": "2023-02-05T01:05:38.467Z"
      },
      {
        "duration": 26,
        "start_time": "2023-02-05T01:05:39.536Z"
      },
      {
        "duration": 17,
        "start_time": "2023-02-05T01:05:39.564Z"
      },
      {
        "duration": 5,
        "start_time": "2023-02-05T01:05:39.585Z"
      },
      {
        "duration": 9,
        "start_time": "2023-02-05T01:05:39.592Z"
      },
      {
        "duration": 10,
        "start_time": "2023-02-05T01:05:39.603Z"
      },
      {
        "duration": 12,
        "start_time": "2023-02-05T01:05:39.615Z"
      },
      {
        "duration": 12,
        "start_time": "2023-02-05T01:05:39.629Z"
      },
      {
        "duration": 56,
        "start_time": "2023-02-05T01:05:39.644Z"
      },
      {
        "duration": 3,
        "start_time": "2023-02-05T01:05:39.702Z"
      },
      {
        "duration": 31,
        "start_time": "2023-02-05T01:05:39.706Z"
      },
      {
        "duration": 7,
        "start_time": "2023-02-05T01:05:39.739Z"
      },
      {
        "duration": 7,
        "start_time": "2023-02-05T01:05:39.748Z"
      },
      {
        "duration": 131,
        "start_time": "2023-02-05T01:05:39.757Z"
      },
      {
        "duration": 7,
        "start_time": "2023-02-05T01:05:39.890Z"
      },
      {
        "duration": 7,
        "start_time": "2023-02-05T01:05:39.898Z"
      },
      {
        "duration": 21,
        "start_time": "2023-02-05T01:05:39.907Z"
      },
      {
        "duration": 14,
        "start_time": "2023-02-05T01:05:39.929Z"
      },
      {
        "duration": 52,
        "start_time": "2023-02-05T01:05:39.944Z"
      },
      {
        "duration": 31,
        "start_time": "2023-02-05T01:05:39.998Z"
      },
      {
        "duration": 7,
        "start_time": "2023-02-05T01:05:40.031Z"
      },
      {
        "duration": 1472,
        "start_time": "2023-02-05T15:28:23.397Z"
      },
      {
        "duration": 141,
        "start_time": "2023-02-05T15:28:24.872Z"
      },
      {
        "duration": 24,
        "start_time": "2023-02-05T15:28:25.016Z"
      },
      {
        "duration": 6,
        "start_time": "2023-02-05T15:29:25.246Z"
      },
      {
        "duration": 6,
        "start_time": "2023-02-05T15:29:25.535Z"
      },
      {
        "duration": 4,
        "start_time": "2023-02-05T15:29:25.751Z"
      },
      {
        "duration": 4,
        "start_time": "2023-02-05T15:29:28.640Z"
      },
      {
        "duration": 4,
        "start_time": "2023-02-05T15:29:28.946Z"
      },
      {
        "duration": 43,
        "start_time": "2023-02-05T15:29:30.033Z"
      },
      {
        "duration": 2,
        "start_time": "2023-02-05T15:29:32.623Z"
      },
      {
        "duration": 43,
        "start_time": "2023-02-05T15:29:32.891Z"
      },
      {
        "duration": 8,
        "start_time": "2023-02-05T15:29:33.333Z"
      },
      {
        "duration": 7,
        "start_time": "2023-02-05T15:29:34.546Z"
      },
      {
        "duration": 107,
        "start_time": "2023-02-05T15:29:35.250Z"
      },
      {
        "duration": 1231,
        "start_time": "2023-02-05T15:32:09.272Z"
      },
      {
        "duration": 34,
        "start_time": "2023-02-05T15:32:10.505Z"
      },
      {
        "duration": 20,
        "start_time": "2023-02-05T15:32:10.541Z"
      },
      {
        "duration": 5,
        "start_time": "2023-02-05T15:32:10.563Z"
      },
      {
        "duration": 9,
        "start_time": "2023-02-05T15:32:10.571Z"
      },
      {
        "duration": 5,
        "start_time": "2023-02-05T15:32:10.582Z"
      },
      {
        "duration": 6,
        "start_time": "2023-02-05T15:32:10.589Z"
      },
      {
        "duration": 8,
        "start_time": "2023-02-05T15:32:10.597Z"
      },
      {
        "duration": 66,
        "start_time": "2023-02-05T15:32:10.606Z"
      },
      {
        "duration": 3,
        "start_time": "2023-02-05T15:32:10.674Z"
      },
      {
        "duration": 50,
        "start_time": "2023-02-05T15:32:10.679Z"
      },
      {
        "duration": 9,
        "start_time": "2023-02-05T15:32:10.732Z"
      },
      {
        "duration": 10,
        "start_time": "2023-02-05T15:32:10.743Z"
      },
      {
        "duration": 130,
        "start_time": "2023-02-05T15:32:10.756Z"
      },
      {
        "duration": 6,
        "start_time": "2023-02-05T15:32:10.888Z"
      },
      {
        "duration": 13,
        "start_time": "2023-02-05T15:32:10.896Z"
      },
      {
        "duration": 41,
        "start_time": "2023-02-05T15:32:10.911Z"
      },
      {
        "duration": 15,
        "start_time": "2023-02-05T15:32:10.954Z"
      },
      {
        "duration": 33,
        "start_time": "2023-02-05T15:32:10.971Z"
      },
      {
        "duration": 51,
        "start_time": "2023-02-05T15:32:11.006Z"
      },
      {
        "duration": 7,
        "start_time": "2023-02-05T15:32:11.058Z"
      },
      {
        "duration": 4,
        "start_time": "2023-02-05T15:32:17.057Z"
      },
      {
        "duration": 4,
        "start_time": "2023-02-05T15:33:35.967Z"
      },
      {
        "duration": 9,
        "start_time": "2023-02-05T15:33:48.725Z"
      }
    ],
    "kernelspec": {
      "display_name": "Python 3 (ipykernel)",
      "language": "python",
      "name": "python3"
    },
    "language_info": {
      "codemirror_mode": {
        "name": "ipython",
        "version": 3
      },
      "file_extension": ".py",
      "mimetype": "text/x-python",
      "name": "python",
      "nbconvert_exporter": "python",
      "pygments_lexer": "ipython3",
      "version": "3.9.5"
    },
    "toc": {
      "base_numbering": 1,
      "nav_menu": {},
      "number_sections": true,
      "sideBar": true,
      "skip_h1_title": true,
      "title_cell": "Table of Contents",
      "title_sidebar": "Contents",
      "toc_cell": false,
      "toc_position": {},
      "toc_section_display": true,
      "toc_window_display": true
    },
    "colab": {
      "provenance": [],
      "include_colab_link": true
    }
  },
  "nbformat": 4,
  "nbformat_minor": 0
}